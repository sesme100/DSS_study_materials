{
 "cells": [
  {
   "cell_type": "markdown",
   "metadata": {
    "school_cell_uuid": "8b1d31412d1245e3b2919a4211bb40da"
   },
   "source": [
    "# 확률 과정 모형을 추정하는 방법"
   ]
  },
  {
   "cell_type": "markdown",
   "metadata": {
    "school_cell_uuid": "6b11ff31252748c2acf5ac67e643e33f"
   },
   "source": [
    "시계열 자료가 주어졌을 때 이 자료를 가장 잘 표현할 수 있는 확률 과정 모형을 만드는 법은 다음과 같은 과정을 거친다."
   ]
  },
  {
   "cell_type": "markdown",
   "metadata": {
    "bootstrap": {
     "panel": {
      "class": "panel-danger",
      "heading": "요약: 확률 과정 모형을 추정하는 방법"
     }
    },
    "school_cell_uuid": "5c8165d14f1a41f8adcb61a4686d05ec"
   },
   "source": [
    "1. 정규성 확인\n",
    "\n",
    "  * 정규성 검정을 통해 자료의 분포가 정규 분포인지 확인한다. \n",
    "    (시계열에서사용하는 데이터는 정규분포, 백색소음도 정규분포.. 모두 정규분포따른다는 가정을 가지고 정규성검정을 함) \n",
    "  * 가능하다면 로그 변환이나 Box-Cox 변환을 사용하여 정규 분포로 변환\n",
    "\n",
    "2. 비정상 과정에서 정상 과정 추출\n",
    "\n",
    "  * 결정론적 추세나 확률적 추세가 있는지 확인\n",
    "  * 결정론적 추세는 회귀 분석 등으로 분리\n",
    "  * 확률적 추세인 경우 ADF 검정 등으로 적분 차수를 확인하고 차분\n",
    "  \n",
    "3. 정상 과정에 대한 ARMA 모형 차수 결정\n",
    "\n",
    "  * ACF/PACF 분석으로 AR(p) 모형 또는 MA(q) 모형 결정\n",
    "  * ARMA 모형인 경우 모수 추정시 AIC/BIC 값을 이용하여 차수 결정\n",
    "  \n",
    "4. ARMA 모형의 모수 추정\n",
    "\n",
    "  * MM/LS/MLE 등의 방법론으로 모수 추정\n",
    "  * 부트스트래핑을 사용하여 모수의 표준 오차 추정\n",
    "  \n",
    "5. 모형 진단\n",
    "\n",
    "  * 잔차에 대한 정규성 검정\n",
    "  * 잔차에 대한 ACF 분석 또는 Ljung-Box Q 검정으로 모형 차수 재확인"
   ]
  },
  {
   "cell_type": "markdown",
   "metadata": {
    "school_cell_uuid": "d7a11b46613447f692a0bb2c4c4ad8c6"
   },
   "source": [
    "## 정규성 확인"
   ]
  },
  {
   "cell_type": "markdown",
   "metadata": {
    "school_cell_uuid": "569740b883094ad59517e2114b2fbe18"
   },
   "source": [
    "확률 과정 모형이 일반 선형 확률 과정인 경우에는 가우시안 백색 잡음이 이노베이션 과정으로 입력되고 전체 시계열은 이에 대한 지연 및 선형 조합으로 이루어지기 때문에 가우시안 정규 분포를 이룬다.\n",
    "\n",
    "따라서 ARIMA 모형 등의 일반 선형 확률 과정으로 모형화하려면 우선 정규성 검정(normality test)을 사용하여 분포가 정규 분포인지를 확인해야 한다."
   ]
  },
  {
   "cell_type": "markdown",
   "metadata": {
    "school_cell_uuid": "9eedb3cb28114021bd8b307eabf2e2f9"
   },
   "source": [
    "만약 시계열 자료의 분포가 로그 변환이나 Box-Cox 변환을 사용하여 정규성이 개선된다면 이러한 변환을 사용할 수 있다. "
   ]
  },
  {
   "cell_type": "markdown",
   "metadata": {
    "school_cell_uuid": "49370f4cd0b94dab8f668a65b09e8905"
   },
   "source": [
    "[[school_notebook:3f485c426a4b49fc9de95a02137ca6b4]]"
   ]
  },
  {
   "cell_type": "markdown",
   "metadata": {
    "school_cell_uuid": "5577d342d5ae47cb82cc800d42a86a1e"
   },
   "source": [
    "## 결정론적 추세 제거"
   ]
  },
  {
   "cell_type": "markdown",
   "metadata": {
    "school_cell_uuid": "efefba73b41c4cc68dc620f1104207e3"
   },
   "source": [
    "다항식 등으로 모형화가 가능한 결정론적 추세가 있는 경우에는 회귀 분석으로 이를 분리할 수 있다."
   ]
  },
  {
   "cell_type": "markdown",
   "metadata": {
    "school_cell_uuid": "407390b4466840eda8d7b6fe0e3769b9"
   },
   "source": [
    "[[school_notebook:240b62a8927043c79b5384536e42f99d]]"
   ]
  },
  {
   "cell_type": "markdown",
   "metadata": {
    "school_cell_uuid": "2063da2c4b4b462cb7915642ac2286e5"
   },
   "source": [
    "## 확률적 추세 제거"
   ]
  },
  {
   "cell_type": "markdown",
   "metadata": {
    "school_cell_uuid": "67b0e574cb38411b8dfcb028bc045f06"
   },
   "source": [
    "확률적 추세가 있는 경우, 즉 ARIMA 모형인 경우에는 적분 차수(order of integration)을 알아야 한다. 적분 차수를 파악하는 방법은 ACF 를 분석하거나 ADF(Augmented Dickey Fuller) 검정을 사용할 수 있다."
   ]
  },
  {
   "cell_type": "markdown",
   "metadata": {
    "school_cell_uuid": "32af81a6285941428d8972beb0496787"
   },
   "source": [
    "[[school_notebook:240b62a8927043c79b5384536e42f99d]]"
   ]
  },
  {
   "cell_type": "markdown",
   "metadata": {
    "school_cell_uuid": "2418d5c754ab4b93a8f8b05d28c7dffa"
   },
   "source": [
    "## ARMA 모형의 차수 결정"
   ]
  },
  {
   "cell_type": "markdown",
   "metadata": {
    "school_cell_uuid": "3733f2440f554cb78a08fdcdafd4fc67"
   },
   "source": [
    "ACF가 특정 차수 이상에서 없어지는 경우(cut-off)에는 MA 모형을 사용할 수 있다. 만약 PACF가 특정 차수 이상에서 없어지면 AR 모형을 사용한다. ACF와 PACF 모두 특정 차수 이상에서 없어지는 현상이 나타나지 않는다면 ARMA 모형을 사용해야 한다. ARMA 모형의 차수 결정은 AIC(Akaike Information Criterion) 등을 사용하여 모수 추정과 동시에 이루어진다."
   ]
  },
  {
   "cell_type": "markdown",
   "metadata": {
    "school_cell_uuid": "467c4aeaa1b847a1816cc81f847205c8"
   },
   "source": [
    "[[school_notebook:ebb638fc880145b9adeef8dfa630f067]]"
   ]
  },
  {
   "cell_type": "markdown",
   "metadata": {
    "school_cell_uuid": "6321986ebecf4ac09b513b90fcb6013a"
   },
   "source": [
    "## ARMA 모형의 모수 추정"
   ]
  },
  {
   "cell_type": "markdown",
   "metadata": {
    "school_cell_uuid": "4165118a67e8418f89ddecccc006000e"
   },
   "source": [
    "ARMA 모형의 차수가 결정되면 해당 수식에 대한 계수 즉 모수(parameter)의 값을 추정해야 한다. 이 때 다음과 같은 방법들을 사용할 수 있다.\n",
    "\n",
    "* 모멘트 방법 (Method of Moment)\n",
    "* 최소 자승 방법 (Least Square)\n",
    "* 최대 우도 추정 방법 (Maximum Likelihood Estimation)\n",
    "\n",
    "모수 추정시에는 모수에 대한 추정 오차도 같이 계산하여 모형 차수의 정당성을 재확인한다."
   ]
  },
  {
   "cell_type": "markdown",
   "metadata": {
    "school_cell_uuid": "1bcda489fe5a400aa4f7c1b620149260"
   },
   "source": [
    "## 모형 진단"
   ]
  },
  {
   "cell_type": "markdown",
   "metadata": {
    "school_cell_uuid": "2c85057fa3cb4ee28ac2c2b3fe093b6b"
   },
   "source": [
    "모형이 추정된 다음에는 진단(diagnosis) 과정을 통해 추정이 올바르게 이루어졌는지 검증한다. \n",
    "\n",
    "기본적으로 잔차(residual)가 백색 잡음이 되어야 하므로 잔차에 대해 다음을 조사한다.\n",
    "\n",
    "* 잔차의 정규성 검정\n",
    "* 잔차의 ACF 분석 혹은 Ljung-Box 검정"
   ]
  }
 ],
 "metadata": {
  "celltoolbar": "Edit Metadata",
  "kernelspec": {
   "display_name": "Python 3",
   "language": "python",
   "name": "python3"
  },
  "language_info": {
   "codemirror_mode": {
    "name": "ipython",
    "version": 3
   },
   "file_extension": ".py",
   "mimetype": "text/x-python",
   "name": "python",
   "nbconvert_exporter": "python",
   "pygments_lexer": "ipython3",
   "version": "3.6.1"
  }
 },
 "nbformat": 4,
 "nbformat_minor": 1
}
